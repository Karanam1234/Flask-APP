{
  "cells": [
    {
      "cell_type": "code",
      "execution_count": null,
      "metadata": {
        "id": "NNfL9JJA8Kfs"
      },
      "outputs": [
        {
          "ename": "",
          "evalue": "",
          "output_type": "error",
          "traceback": [
            "\u001b[1;31mRunning cells with 'base' requires ipykernel package.\n",
            "\u001b[1;31mRun the following command to install 'ipykernel' into the Python environment. \n",
            "\u001b[1;31mCommand: 'conda install -n base ipykernel --update-deps --force-reinstall'"
          ]
        }
      ],
      "source": [
        "import pandas as pd\n",
        "import numpy as np\n",
        "import os\n",
        "\n"
      ]
    },
    {
      "cell_type": "code",
      "execution_count": null,
      "metadata": {
        "id": "mjQmlg_D8UbQ"
      },
      "outputs": [],
      "source": [
        "df=pd.read_excel('/content/adult_train.csv',na_values='?')"
      ]
    },
    {
      "cell_type": "code",
      "execution_count": null,
      "metadata": {
        "colab": {
          "base_uri": "https://localhost:8080/",
          "height": 444
        },
        "id": "JefiTZ2j-Jd5",
        "outputId": "cc60bb8a-f9bb-442d-c860-cea291b817fd"
      },
      "outputs": [],
      "source": [
        "df.head()"
      ]
    },
    {
      "cell_type": "code",
      "execution_count": null,
      "metadata": {
        "colab": {
          "base_uri": "https://localhost:8080/"
        },
        "id": "BKu28Cnr-VXQ",
        "outputId": "1c72e213-4efe-44b1-84ab-aa835eea3dec"
      },
      "outputs": [],
      "source": [
        "df.shape"
      ]
    },
    {
      "cell_type": "code",
      "execution_count": null,
      "metadata": {
        "colab": {
          "base_uri": "https://localhost:8080/"
        },
        "id": "fCMcAxTc-MKt",
        "outputId": "c4b51680-24e5-43bd-af39-1e82ab9a9741"
      },
      "outputs": [],
      "source": [
        "df.isnull().sum()"
      ]
    },
    {
      "cell_type": "code",
      "execution_count": null,
      "metadata": {
        "colab": {
          "base_uri": "https://localhost:8080/"
        },
        "id": "1Ml4td2D-gtw",
        "outputId": "220e663c-f00e-4316-e1fa-4be8655d448b"
      },
      "outputs": [],
      "source": [
        "df.dtypes"
      ]
    },
    {
      "cell_type": "code",
      "execution_count": null,
      "metadata": {
        "id": "FmzXJZ0D-rC2"
      },
      "outputs": [],
      "source": [
        "df.dropna(axis=0,inplace=True)"
      ]
    },
    {
      "cell_type": "code",
      "execution_count": null,
      "metadata": {
        "colab": {
          "base_uri": "https://localhost:8080/"
        },
        "id": "t7YWg68h-x29",
        "outputId": "28c10cb4-5018-442e-9ab3-c6c4d9fee32b"
      },
      "outputs": [],
      "source": [
        "df.isnull().sum()"
      ]
    },
    {
      "cell_type": "code",
      "execution_count": null,
      "metadata": {
        "colab": {
          "base_uri": "https://localhost:8080/"
        },
        "id": "WU77h2m1_A16",
        "outputId": "44943382-2d06-4ee0-ae41-0367afd181b1"
      },
      "outputs": [],
      "source": [
        "df.shape"
      ]
    },
    {
      "cell_type": "code",
      "execution_count": null,
      "metadata": {
        "colab": {
          "base_uri": "https://localhost:8080/",
          "height": 238
        },
        "id": "lY5FEo28_S8g",
        "outputId": "dff19e0d-a89a-42fb-8c93-8300b5bbd80a"
      },
      "outputs": [],
      "source": [
        "df.corr()"
      ]
    },
    {
      "cell_type": "code",
      "execution_count": null,
      "metadata": {
        "id": "wmpITZjJ_rHc"
      },
      "outputs": [],
      "source": [
        "df.drop('fnlwgt',axis=1,inplace=True)"
      ]
    },
    {
      "cell_type": "code",
      "execution_count": null,
      "metadata": {
        "colab": {
          "base_uri": "https://localhost:8080/",
          "height": 444
        },
        "id": "Dmykb8KC_-BM",
        "outputId": "8fbcba6f-2256-485a-b849-0825df492044"
      },
      "outputs": [],
      "source": [
        "df.head()"
      ]
    },
    {
      "cell_type": "code",
      "execution_count": null,
      "metadata": {
        "colab": {
          "base_uri": "https://localhost:8080/"
        },
        "id": "WkDzw5ktAFQ8",
        "outputId": "c2afec92-f0c8-448b-f918-076cbb3199ee"
      },
      "outputs": [],
      "source": [
        "df['workclass'].unique()"
      ]
    },
    {
      "cell_type": "code",
      "execution_count": null,
      "metadata": {
        "colab": {
          "base_uri": "https://localhost:8080/"
        },
        "id": "ufYxTc2HAeeD",
        "outputId": "cc0ce452-3c70-4931-b6e3-58d09604a9f3"
      },
      "outputs": [],
      "source": [
        "df['education'].unique()"
      ]
    },
    {
      "cell_type": "code",
      "execution_count": null,
      "metadata": {
        "colab": {
          "base_uri": "https://localhost:8080/"
        },
        "id": "7QOwwd6wAl5B",
        "outputId": "f0bdaf5e-5aab-457e-c9bd-50068264f92e"
      },
      "outputs": [],
      "source": [
        "df['marital-status'].unique()"
      ]
    },
    {
      "cell_type": "code",
      "execution_count": null,
      "metadata": {
        "colab": {
          "base_uri": "https://localhost:8080/"
        },
        "id": "Jc86GXhQAw_D",
        "outputId": "94a1f1c5-d6c4-4106-980a-6f8ae4f00e89"
      },
      "outputs": [],
      "source": [
        "df['native-country'].unique()"
      ]
    },
    {
      "cell_type": "code",
      "execution_count": null,
      "metadata": {
        "colab": {
          "base_uri": "https://localhost:8080/"
        },
        "id": "xrsm6riEBLan",
        "outputId": "114e1cdf-07ed-425c-9646-8c0d89a780d7"
      },
      "outputs": [],
      "source": [
        "df['income'].unique()"
      ]
    },
    {
      "cell_type": "code",
      "execution_count": null,
      "metadata": {
        "id": "KxTC_bC6GnFw"
      },
      "outputs": [],
      "source": [
        "for col in ['workclass','education','marital-status','occupation','relationship','race','gender']:\n",
        "  df[col]=df[col].astype(\"category\")"
      ]
    },
    {
      "cell_type": "code",
      "execution_count": null,
      "metadata": {
        "colab": {
          "base_uri": "https://localhost:8080/"
        },
        "id": "_fuVMS_XHk_1",
        "outputId": "3bf21e48-d58d-4736-f4f3-662cc71d1e15"
      },
      "outputs": [],
      "source": [
        "df.dtypes"
      ]
    },
    {
      "cell_type": "code",
      "execution_count": null,
      "metadata": {
        "id": "j0ojWDg3H-dL"
      },
      "outputs": [],
      "source": [
        "df['income']=df['income'].astype(\"category\")"
      ]
    },
    {
      "cell_type": "code",
      "execution_count": null,
      "metadata": {
        "colab": {
          "base_uri": "https://localhost:8080/"
        },
        "id": "_oo7PMmtIJrP",
        "outputId": "33c67d78-cb8e-468a-c12d-39e82c78bc81"
      },
      "outputs": [],
      "source": [
        "df.dtypes"
      ]
    },
    {
      "cell_type": "code",
      "execution_count": null,
      "metadata": {
        "id": "XGPAEY5MIaVF"
      },
      "outputs": [],
      "source": [
        "cat_Attr_Names = ['workclass','education','marital-status','occupation','relationship','race','gender']\n",
        "num_Attr_Names = ['age','educational-num','capital-gain','capital-loss','hours-per-week']"
      ]
    },
    {
      "cell_type": "code",
      "execution_count": null,
      "metadata": {
        "colab": {
          "base_uri": "https://localhost:8080/"
        },
        "id": "j_dlYGCPKr9l",
        "outputId": "3af9a311-7e2b-4492-9b14-ec2e79822577"
      },
      "outputs": [],
      "source": [
        "cat_Attr_Names"
      ]
    },
    {
      "cell_type": "code",
      "execution_count": null,
      "metadata": {
        "id": "vmMHApb-BkvY"
      },
      "outputs": [],
      "source": [
        "df[cat_Attr_Names] = df[cat_Attr_Names].apply(lambda col: col.astype('category'))\n",
        "df[num_Attr_Names] = df[num_Attr_Names].apply(lambda col: col.astype('int64'))\n"
      ]
    },
    {
      "cell_type": "code",
      "execution_count": null,
      "metadata": {
        "colab": {
          "base_uri": "https://localhost:8080/",
          "height": 444
        },
        "id": "PMJZJ_cKLEkQ",
        "outputId": "0c86329c-0b00-4e6d-e2e5-09607e78a622"
      },
      "outputs": [],
      "source": [
        "df.head()"
      ]
    },
    {
      "cell_type": "code",
      "execution_count": null,
      "metadata": {
        "id": "_I4m50f8F1wQ"
      },
      "outputs": [],
      "source": [
        "df['income']=df['income'].map({'<=50K':0,'>50K':1})"
      ]
    },
    {
      "cell_type": "code",
      "execution_count": null,
      "metadata": {
        "colab": {
          "base_uri": "https://localhost:8080/"
        },
        "id": "mNM38EksE-AJ",
        "outputId": "c3cd5554-8a88-412f-b871-ff51a3bb5a2c"
      },
      "outputs": [],
      "source": [
        "df['income'].value_counts()"
      ]
    },
    {
      "cell_type": "code",
      "execution_count": null,
      "metadata": {
        "colab": {
          "base_uri": "https://localhost:8080/",
          "height": 444
        },
        "id": "lTKRf88bLudB",
        "outputId": "07086f53-fbfe-49a5-9eb5-e0233dc37f29"
      },
      "outputs": [],
      "source": [
        "df.head()"
      ]
    },
    {
      "cell_type": "code",
      "execution_count": null,
      "metadata": {
        "id": "owvldFRsLSR2"
      },
      "outputs": [],
      "source": [
        "y=df['income']"
      ]
    },
    {
      "cell_type": "code",
      "execution_count": null,
      "metadata": {
        "id": "MkNkOI_1MzaR"
      },
      "outputs": [],
      "source": [
        "x=df.drop('income',axis=1)"
      ]
    },
    {
      "cell_type": "code",
      "execution_count": null,
      "metadata": {
        "colab": {
          "base_uri": "https://localhost:8080/"
        },
        "id": "dVcmqCNsLWIG",
        "outputId": "3ec29fc6-61a9-4160-b958-1603681841b6"
      },
      "outputs": [],
      "source": [
        "y.head()"
      ]
    },
    {
      "cell_type": "code",
      "execution_count": null,
      "metadata": {
        "colab": {
          "base_uri": "https://localhost:8080/",
          "height": 444
        },
        "id": "TeyL2s3UNPUC",
        "outputId": "eb606a69-432a-43b0-e68b-8118329b6c6b"
      },
      "outputs": [],
      "source": [
        "x.head()"
      ]
    },
    {
      "cell_type": "code",
      "execution_count": null,
      "metadata": {
        "id": "HVPaxCvWCNIH"
      },
      "outputs": [],
      "source": [
        "from sklearn.model_selection import train_test_split"
      ]
    },
    {
      "cell_type": "code",
      "execution_count": null,
      "metadata": {
        "id": "Ik90JsbgDQmh"
      },
      "outputs": [],
      "source": [
        "x_train,x_test,y_train,y_test = train_test_split(x,y,random_state=1122,test_size=0.3)"
      ]
    },
    {
      "cell_type": "code",
      "execution_count": null,
      "metadata": {
        "colab": {
          "base_uri": "https://localhost:8080/"
        },
        "id": "e6Zoml4DDxoO",
        "outputId": "aa24b82e-9635-4b0f-d124-835012ad746d"
      },
      "outputs": [],
      "source": [
        "y_train.count()"
      ]
    },
    {
      "cell_type": "code",
      "execution_count": null,
      "metadata": {
        "colab": {
          "base_uri": "https://localhost:8080/"
        },
        "id": "sLMzCKJAEF_I",
        "outputId": "58fb2603-9cfc-44e2-a425-4f92312087e9"
      },
      "outputs": [],
      "source": [
        "y_test.count()"
      ]
    },
    {
      "cell_type": "code",
      "execution_count": null,
      "metadata": {
        "colab": {
          "base_uri": "https://localhost:8080/"
        },
        "id": "Gop45uqZELIB",
        "outputId": "a304e86a-2c27-479e-b6c0-7b9087a9e8f3"
      },
      "outputs": [],
      "source": [
        "y_train.value_counts()"
      ]
    },
    {
      "cell_type": "code",
      "execution_count": null,
      "metadata": {
        "colab": {
          "base_uri": "https://localhost:8080/"
        },
        "id": "1BGm50XOESX8",
        "outputId": "97d1f170-ca68-48f3-d633-da17138ab099"
      },
      "outputs": [],
      "source": [
        "y_test.value_counts()"
      ]
    },
    {
      "cell_type": "code",
      "execution_count": null,
      "metadata": {
        "id": "CCpwJhHjOxph"
      },
      "outputs": [],
      "source": [
        "from sklearn.impute import SimpleImputer\n",
        "from sklearn.preprocessing import StandardScaler, OneHotEncoder\n",
        "from sklearn.compose import ColumnTransformer\n",
        "from sklearn.svm import SVC\n",
        "from sklearn.pipeline import Pipeline\n",
        "from joblib import dump"
      ]
    },
    {
      "cell_type": "code",
      "execution_count": null,
      "metadata": {
        "id": "javxDx-fOezV"
      },
      "outputs": [],
      "source": [
        "numeric_transformer = Pipeline(steps=[\n",
        "    ('imputer', SimpleImputer(strategy='mean')),\n",
        "    ('scaler', StandardScaler())])\n",
        "\n",
        "categorical_transformer = Pipeline(steps=[\n",
        "    ('imputer', SimpleImputer(strategy='most_frequent')),\n",
        "    ('onehot', OneHotEncoder(handle_unknown='ignore'))])\n",
        "\n",
        "preprocessor = ColumnTransformer(\n",
        "    transformers=[\n",
        "        ('num', numeric_transformer, num_Attr_Names),\n",
        "        ('cat', categorical_transformer, cat_Attr_Names)])"
      ]
    },
    {
      "cell_type": "code",
      "execution_count": null,
      "metadata": {
        "id": "TXQkEHDAO0_L"
      },
      "outputs": [],
      "source": [
        "from sklearn import tree\n"
      ]
    },
    {
      "cell_type": "code",
      "execution_count": null,
      "metadata": {
        "id": "j51hAdBYP3VS"
      },
      "outputs": [],
      "source": [
        "classifier= tree.DecisionTreeClassifier()"
      ]
    },
    {
      "cell_type": "code",
      "execution_count": null,
      "metadata": {
        "colab": {
          "base_uri": "https://localhost:8080/"
        },
        "id": "Ce-hdP7dP8x9",
        "outputId": "a1a59721-a294-459d-fca2-ee34b22f67a7"
      },
      "outputs": [],
      "source": [
        "clf = Pipeline(steps=[\n",
        "    ('preprocessor', preprocessor), \n",
        "    ('classifier', classifier)])\n",
        "clf.fit(x_train, y_train\n",
        "        )"
      ]
    },
    {
      "cell_type": "code",
      "execution_count": null,
      "metadata": {
        "id": "t6-8BLFQQQLI"
      },
      "outputs": [],
      "source": [
        "y_pred_train = clf.predict(x_train)"
      ]
    },
    {
      "cell_type": "code",
      "execution_count": null,
      "metadata": {
        "colab": {
          "base_uri": "https://localhost:8080/"
        },
        "id": "edDeuCFsQWsQ",
        "outputId": "4d6edfd9-78dc-482b-be98-6d67eb928038"
      },
      "outputs": [],
      "source": [
        "y_pred_train"
      ]
    },
    {
      "cell_type": "code",
      "execution_count": null,
      "metadata": {
        "id": "ThITvc2vHJtw"
      },
      "outputs": [],
      "source": [
        "y_pred_test = clf.predict(x_test)"
      ]
    },
    {
      "cell_type": "code",
      "execution_count": null,
      "metadata": {
        "colab": {
          "base_uri": "https://localhost:8080/"
        },
        "id": "pJnZd7r2HW12",
        "outputId": "161cb333-31c1-4edb-aa0c-84ec090d2856"
      },
      "outputs": [],
      "source": [
        "y_pred_test"
      ]
    },
    {
      "cell_type": "code",
      "execution_count": null,
      "metadata": {
        "id": "xeHMj7sUQzL8"
      },
      "outputs": [],
      "source": [
        "from sklearn.metrics import accuracy_score,recall_score"
      ]
    },
    {
      "cell_type": "code",
      "execution_count": null,
      "metadata": {
        "colab": {
          "base_uri": "https://localhost:8080/"
        },
        "id": "tqP8w62EQaU7",
        "outputId": "27a47512-e223-487e-8332-6a5edb3e719b"
      },
      "outputs": [],
      "source": [
        "print(\"Accuracy = \", accuracy_score(y_train, y_pred_train))\n",
        "print(\"Recall   = \", recall_score(y_train, y_pred_train))"
      ]
    },
    {
      "cell_type": "code",
      "execution_count": null,
      "metadata": {
        "colab": {
          "base_uri": "https://localhost:8080/"
        },
        "id": "M3sCj0zrIEFQ",
        "outputId": "c963b83a-a10d-43f1-b659-25f1f28a3abc"
      },
      "outputs": [],
      "source": [
        "print(\"Accuracy = \", accuracy_score(y_test, y_pred_test))\n",
        "print(\"Recall   = \", recall_score(y_test, y_pred_test))"
      ]
    },
    {
      "cell_type": "code",
      "execution_count": null,
      "metadata": {
        "id": "QxHIj3_HQ8og"
      },
      "outputs": [],
      "source": [
        "import pickle"
      ]
    },
    {
      "cell_type": "code",
      "execution_count": null,
      "metadata": {
        "id": "ND3SiuATU01G"
      },
      "outputs": [],
      "source": [
        "PATH = os.getcwd()"
      ]
    },
    {
      "cell_type": "code",
      "execution_count": null,
      "metadata": {
        "id": "vChEmgzfU1mB"
      },
      "outputs": [],
      "source": [
        "dump_file = PATH + 'model_01.pkl'"
      ]
    },
    {
      "cell_type": "code",
      "execution_count": null,
      "metadata": {
        "colab": {
          "base_uri": "https://localhost:8080/"
        },
        "id": "TxbXjLQpV6cK",
        "outputId": "0eb1f865-aec3-419b-c115-d589196df42f"
      },
      "outputs": [],
      "source": [
        "dump(clf, dump_file, compress=1)"
      ]
    }
  ],
  "metadata": {
    "colab": {
      "provenance": []
    },
    "kernelspec": {
      "display_name": "base",
      "language": "python",
      "name": "python3"
    },
    "language_info": {
      "name": "python",
      "version": "3.9.13 (main, Aug 25 2022, 23:51:50) [MSC v.1916 64 bit (AMD64)]"
    },
    "vscode": {
      "interpreter": {
        "hash": "ad2bdc8ecc057115af97d19610ffacc2b4e99fae6737bb82f5d7fb13d2f2c186"
      }
    }
  },
  "nbformat": 4,
  "nbformat_minor": 0
}
